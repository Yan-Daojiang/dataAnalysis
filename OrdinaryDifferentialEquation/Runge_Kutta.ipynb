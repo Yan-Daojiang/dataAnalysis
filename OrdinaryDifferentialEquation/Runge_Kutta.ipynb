{
 "cells": [
  {
   "cell_type": "markdown",
   "metadata": {},
   "source": [
    "# 问题\n",
    "用四阶龙格-库塔(Runge-Kutta)方法求解常微分方程初值问题\n",
    "## 求解题目\n",
    "$$\\left\\{\\begin{array}{l}{y^{\\prime}=x y} \\\\ {y(0)=1}\\end{array}\\right.$$\n",
    "步长$h=0.1$"
   ]
  },
  {
   "cell_type": "markdown",
   "metadata": {},
   "source": [
    "# 问题求解"
   ]
  },
  {
   "cell_type": "code",
   "execution_count": 1,
   "metadata": {},
   "outputs": [],
   "source": [
    "def f(x,y):\n",
    "    \"\"\"dy/dt =xy\"\"\"\n",
    "    return x*y"
   ]
  },
  {
   "cell_type": "markdown",
   "metadata": {},
   "source": [
    "## 四阶龙格-库塔算法"
   ]
  },
  {
   "cell_type": "code",
   "execution_count": 2,
   "metadata": {},
   "outputs": [],
   "source": [
    "def RK(a,b,h,y_0):\n",
    "    \"\"\"a,b为求解区间，\n",
    "       h为步长\n",
    "       y_0为起点a处的纵坐标\"\"\"\n",
    "    x=[]\n",
    "    y=[]\n",
    "    x.append(a)\n",
    "    y.append(y_0)\n",
    "    n=int((b-a)/h)    #递推次数\n",
    "    for i in range(n):\n",
    "        x.append(round(x[i]+h,1))\n",
    "        k1=round(f(x[i],y[i]),8)\n",
    "        k2=round(f(x[i]+h/2,y[i]+k1*h/2),8)\n",
    "        k3=round(f(x[i]+h/2,y[i]+k2*h/2),8)\n",
    "        k4=round(f(x[i]+h,y[i]+k3*h),8)\n",
    "        y.append(round(y[i]+h*(k1+2*k2+2*k3+k4)/6,8))\n",
    "    #output\n",
    "    print(\"x\\ty\")\n",
    "    for i in range(n+1):\n",
    "        print(str(x[i])+\"\\t\"+str(y[i]))\n",
    "        \n",
    "    return y"
   ]
  },
  {
   "cell_type": "code",
   "execution_count": 3,
   "metadata": {},
   "outputs": [
    {
     "name": "stdout",
     "output_type": "stream",
     "text": [
      "x\ty\n",
      "0\t1\n",
      "0.1\t1.00501252\n",
      "0.2\t1.02020134\n",
      "0.3\t1.04602786\n",
      "0.4\t1.08328707\n",
      "0.5\t1.13314845\n",
      "0.6\t1.19721735\n",
      "0.7\t1.27762128\n",
      "0.8\t1.3771277\n",
      "0.9\t1.49930237\n",
      "1.0\t1.64872102\n"
     ]
    }
   ],
   "source": [
    "y=RK(0,1,0.1,1)"
   ]
  },
  {
   "cell_type": "markdown",
   "metadata": {},
   "source": [
    "## 标准结果\n",
    "将借助scipy求得的结果作为标准结果"
   ]
  },
  {
   "cell_type": "code",
   "execution_count": 4,
   "metadata": {},
   "outputs": [],
   "source": [
    "from scipy import linspace\n",
    "from scipy.integrate import odeint\n",
    "import numpy as np\n",
    "def solve_first_order_ode():\n",
    "    \"\"\" 求解一阶ODE\"\"\"\n",
    "    xb = linspace(0,1,11)\n",
    "    y0 = [1] # 为了兼容solve_ivp函数，这里初值要array类型\n",
    "    \n",
    "    yb = odeint(f,y0,xb,tfirst=True) # 使用tfirst参数\n",
    "    print(\"x\\ty\")\n",
    "    for i in range(len(xb)):\n",
    "        print(str(round(xb[i],1))+\"\\t\"+str(yb[i]))\n",
    "    return yb"
   ]
  },
  {
   "cell_type": "code",
   "execution_count": 5,
   "metadata": {},
   "outputs": [
    {
     "name": "stdout",
     "output_type": "stream",
     "text": [
      "x\ty\n",
      "0.0\t[1.]\n",
      "0.1\t[1.00501264]\n",
      "0.2\t[1.02020146]\n",
      "0.3\t[1.04602799]\n",
      "0.4\t[1.08328721]\n",
      "0.5\t[1.13314861]\n",
      "0.6\t[1.19721755]\n",
      "0.7\t[1.27762152]\n",
      "0.8\t[1.37712799]\n",
      "0.9\t[1.49930276]\n",
      "1.0\t[1.64872157]\n"
     ]
    }
   ],
   "source": [
    "yb=solve_first_order_ode()"
   ]
  },
  {
   "cell_type": "markdown",
   "metadata": {},
   "source": [
    "# 结果分析"
   ]
  },
  {
   "cell_type": "code",
   "execution_count": 6,
   "metadata": {},
   "outputs": [
    {
     "data": {
      "image/png": "[encoded data removed]",
      "text/plain": [
       "<Figure size 432x288 with 1 Axes>"
      ]
     },
     "metadata": {
      "needs_background": "light"
     },
     "output_type": "display_data"
    }
   ],
   "source": [
    "import matplotlib.pyplot as plt\n",
    "%matplotlib inline\n",
    "x = linspace(0,1,11)\n",
    "plt.plot(x,yb,'b--',label=\"standard result\")\n",
    "plt.plot(x,y,'r-',label=\"Runge-Kutta\")    \n",
    "plt.legend()\n",
    "plt.show()"
   ]
  },
  {
   "cell_type": "code",
   "execution_count": null,
   "metadata": {},
   "outputs": [],
   "source": []
  }
 ],
 "metadata": {
  "kernelspec": {
   "display_name": "Python 3",
   "language": "python",
   "name": "python3"
  },
  "language_info": {
   "codemirror_mode": {
    "name": "ipython",
    "version": 3
   },
   "file_extension": ".py",
   "mimetype": "text/x-python",
   "name": "python",
   "nbconvert_exporter": "python",
   "pygments_lexer": "ipython3",
   "version": "3.7.1"
  },
  "toc": {
   "base_numbering": 1,
   "nav_menu": {},
   "number_sections": true,
   "sideBar": true,
   "skip_h1_title": false,
   "title_cell": "Table of Contents",
   "title_sidebar": "Contents",
   "toc_cell": false,
   "toc_position": {},
   "toc_section_display": true,
   "toc_window_display": false
  }
 },
 "nbformat": 4,
 "nbformat_minor": 2
}
