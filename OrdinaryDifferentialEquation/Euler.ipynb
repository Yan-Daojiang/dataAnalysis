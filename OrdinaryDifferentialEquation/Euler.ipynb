{
 "cells": [
  {
   "cell_type": "markdown",
   "metadata": {},
   "source": [
    "# 问题\n",
    "用改进的欧拉（Euler）公式求解常微分方程初值问题\n",
    "## 求解问题\n",
    "$$\\left\\{\\begin{array}{l}{\\frac{d y}{d x}=-y, x \\in[0,1]} \\\\ {y(0)=1}\\end{array}\\right.$$"
   ]
  },
  {
   "cell_type": "markdown",
   "metadata": {},
   "source": [
    "# 问题求解"
   ]
  },
  {
   "cell_type": "code",
   "execution_count": 11,
   "metadata": {},
   "outputs": [],
   "source": [
    "def f(x,y):\n",
    "    \"\"\"dy/dt =-y\"\"\"\n",
    "    return -y"
   ]
  },
  {
   "cell_type": "markdown",
   "metadata": {},
   "source": [
    "## 欧拉方法"
   ]
  },
  {
   "cell_type": "code",
   "execution_count": 12,
   "metadata": {},
   "outputs": [],
   "source": [
    "def euler(a,b,h,y_0):\n",
    "    \"\"\"a,b为求解区间，\n",
    "       h为步长\n",
    "       y_0为起点a处的纵坐标\"\"\"\n",
    "    x=[]\n",
    "    y=[]\n",
    "    x.append(a)\n",
    "    y.append(y_0)\n",
    "    n=int((b-a)/h)    #递推次数\n",
    "    for i in range(n):\n",
    "        x.append(round(x[i]+h,1))    #使用round处理精度\n",
    "        y.append(round(y[i]+h*f(x[i],y[i]),7))\n",
    "    #output\n",
    "    print(\"x\\ty\")\n",
    "    for i in range(n+1):\n",
    "        print(str(x[i])+\"\\t\"+str(y[i]))\n",
    "    \n",
    "    return y"
   ]
  },
  {
   "cell_type": "code",
   "execution_count": 13,
   "metadata": {},
   "outputs": [
    {
     "name": "stdout",
     "output_type": "stream",
     "text": [
      "x\ty\n",
      "0\t1\n",
      "0.1\t0.9\n",
      "0.2\t0.81\n",
      "0.3\t0.729\n",
      "0.4\t0.6561\n",
      "0.5\t0.59049\n",
      "0.6\t0.531441\n",
      "0.7\t0.4782969\n",
      "0.8\t0.4304672\n",
      "0.9\t0.3874205\n",
      "1.0\t0.3486784\n"
     ]
    }
   ],
   "source": [
    "y=euler(0,1,0.1,1)"
   ]
  },
  {
   "cell_type": "markdown",
   "metadata": {},
   "source": [
    "## 改进欧拉"
   ]
  },
  {
   "cell_type": "code",
   "execution_count": 14,
   "metadata": {},
   "outputs": [],
   "source": [
    "def eulerplus(a,b,h,y_0):\n",
    "    \"\"\"a,b为求解区间，\n",
    "       h为步长\n",
    "       y_0为起点a处的纵坐标\"\"\"\n",
    "    xp=[]\n",
    "    yp=[]\n",
    "    xp.append(a)\n",
    "    yp.append(y_0)\n",
    "    n=int((b-a)/h)    #递推次数\n",
    "    for i in range(n):    #循环一次，递推一次\n",
    "        xp.append(round(xp[i]+h,1))\n",
    "        yp.append(round(yp[i]+h*f(xp[i],yp[i]),7))  #预测\n",
    "        yp[i+1]=yp[i]+h*(f(xp[i],yp[i])+f(xp[i+1],yp[i+1]))/2    #校正\n",
    "    #output\n",
    "    print(\"x\\ty\")\n",
    "    for i in range(n+1):\n",
    "        print(str(xp[i])+\"\\t\"+str(yp[i]))\n",
    "        \n",
    "    return yp"
   ]
  },
  {
   "cell_type": "code",
   "execution_count": 15,
   "metadata": {},
   "outputs": [
    {
     "name": "stdout",
     "output_type": "stream",
     "text": [
      "x\ty\n",
      "0\t1\n",
      "0.1\t0.905\n",
      "0.2\t0.819025\n",
      "0.3\t0.741217625\n",
      "0.4\t0.67080194875\n",
      "0.5\t0.6070757613125\n",
      "0.6\t0.549403563246875\n",
      "0.7\t0.4972102250845313\n",
      "0.8\t0.4499752538303047\n",
      "0.9\t0.40722760613878944\n",
      "1.0\t0.36854098583184997\n"
     ]
    }
   ],
   "source": [
    "yp=eulerplus(0,1,0.1,1)"
   ]
  },
  {
   "cell_type": "markdown",
   "metadata": {},
   "source": [
    "## 标准结果\n",
    "参考[scipy求解微分方程](https://blog.csdn.net/ouening/article/details/80673288)"
   ]
  },
  {
   "cell_type": "code",
   "execution_count": 16,
   "metadata": {},
   "outputs": [],
   "source": [
    "from scipy import linspace\n",
    "from scipy.integrate import odeint\n",
    "import numpy as np\n",
    "def solve_first_order_ode():\n",
    "    '''\n",
    "    求解一阶ODE\n",
    "    '''\n",
    "    xb = linspace(0,1,11)\n",
    "    y0 = [1] # 为了兼容solve_ivp函数，这里初值要array类型\n",
    "    \n",
    "    yb = odeint(f,y0,xb,tfirst=True) # 使用tfirst参数\n",
    "    print(\"x\\ty\")\n",
    "    for i in range(len(xb)):\n",
    "        print(str(round(xb[i],1))+\"\\t\"+str(yb[i]))\n",
    "    \n",
    "    return yb    \n",
    "    \n",
    "   "
   ]
  },
  {
   "cell_type": "code",
   "execution_count": 17,
   "metadata": {},
   "outputs": [
    {
     "name": "stdout",
     "output_type": "stream",
     "text": [
      "x\ty\n",
      "0.0\t[1.]\n",
      "0.1\t[0.90483745]\n",
      "0.2\t[0.81873077]\n",
      "0.3\t[0.7408182]\n",
      "0.4\t[0.67032006]\n",
      "0.5\t[0.60653067]\n",
      "0.6\t[0.54881165]\n",
      "0.7\t[0.49658532]\n",
      "0.8\t[0.44932898]\n",
      "0.9\t[0.40656968]\n",
      "1.0\t[0.36787947]\n"
     ]
    }
   ],
   "source": [
    "yb=solve_first_order_ode()"
   ]
  },
  {
   "cell_type": "markdown",
   "metadata": {},
   "source": [
    "# 结果分析"
   ]
  },
  {
   "cell_type": "code",
   "execution_count": 18,
   "metadata": {},
   "outputs": [
    {
     "data": {
      "image/png": "[encoded data removed]",
      "text/plain": [
       "<Figure size 432x288 with 1 Axes>"
      ]
     },
     "metadata": {
      "needs_background": "light"
     },
     "output_type": "display_data"
    }
   ],
   "source": [
    "import matplotlib.pyplot as plt\n",
    "\n",
    "x = linspace(0,1,11)\n",
    "plt.plot(x,yb,'b--',label=\"standard result\")\n",
    "plt.plot(x,y,'r-',label=\"euler\")    \n",
    "#plt.plot(x,yp,'g')   \n",
    "plt.legend()\n",
    "plt.show()"
   ]
  },
  {
   "cell_type": "code",
   "execution_count": 19,
   "metadata": {},
   "outputs": [
    {
     "data": {
      "image/png": "[encoded data removed]",
      "text/plain": [
       "<Figure size 432x288 with 1 Axes>"
      ]
     },
     "metadata": {
      "needs_background": "light"
     },
     "output_type": "display_data"
    }
   ],
   "source": [
    "x = linspace(0,1,11)\n",
    "plt.plot(x,yb,'b--',label=\"standard result\")\n",
    "plt.plot(x,yp,'g-',label=\"euler plus\") \n",
    "plt.legend()\n",
    "plt.show()"
   ]
  },
  {
   "cell_type": "code",
   "execution_count": null,
   "metadata": {},
   "outputs": [],
   "source": []
  }
 ],
 "metadata": {
  "kernelspec": {
   "display_name": "Python 3",
   "language": "python",
   "name": "python3"
  },
  "language_info": {
   "codemirror_mode": {
    "name": "ipython",
    "version": 3
   },
   "file_extension": ".py",
   "mimetype": "text/x-python",
   "name": "python",
   "nbconvert_exporter": "python",
   "pygments_lexer": "ipython3",
   "version": "3.7.1"
  },
  "toc": {
   "base_numbering": 1,
   "nav_menu": {},
   "number_sections": true,
   "sideBar": true,
   "skip_h1_title": false,
   "title_cell": "Table of Contents",
   "title_sidebar": "Contents",
   "toc_cell": false,
   "toc_position": {},
   "toc_section_display": true,
   "toc_window_display": false
  }
 },
 "nbformat": 4,
 "nbformat_minor": 2
}
