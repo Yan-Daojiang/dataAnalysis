{
 "cells": [
  {
   "cell_type": "code",
   "execution_count": 1,
   "metadata": {},
   "outputs": [],
   "source": [
    "#导入计算依赖的库\n",
    "import numpy as np\n",
    "from matplotlib import pyplot as plt\n",
    "import xlrd\n",
    "from sklearn import linear_model    #使用sklearn封装的fit进行检验"
   ]
  },
  {
   "cell_type": "markdown",
   "metadata": {},
   "source": [
    "# 数据的读取及模型的选择"
   ]
  },
  {
   "cell_type": "code",
   "execution_count": 2,
   "metadata": {},
   "outputs": [],
   "source": [
    "# 从文件中获取数据\n",
    "ExcelFile=xlrd.open_workbook(r'data.xlsx')\n",
    "sheet=ExcelFile.sheet_by_index(0)\n",
    "cols_1=sheet.col_values(0)\n",
    "cols_2=sheet.col_values(1)"
   ]
  },
  {
   "cell_type": "code",
   "execution_count": 3,
   "metadata": {},
   "outputs": [
    {
     "name": "stdout",
     "output_type": "stream",
     "text": [
      "获取的节点如下:\n",
      "[2.  4.  4.  4.6 5.  5.2 5.6 6.  6.6 7. ]\n",
      "节点处的值对应如下:\n",
      "[5.  3.5 3.  2.7 2.4 2.5 2.  1.5 1.2 1.2]\n"
     ]
    }
   ],
   "source": [
    "# 剔除数据的表头\n",
    "x=np.array(cols_1[1:])\n",
    "y=np.array(cols_2[1:])\n",
    "print(\"获取的节点如下:\")\n",
    "print(x)\n",
    "print(\"节点处的值对应如下:\")\n",
    "print(y)"
   ]
  },
  {
   "cell_type": "code",
   "execution_count": 4,
   "metadata": {},
   "outputs": [
    {
     "data": {
      "text/plain": [
       "<matplotlib.collections.PathCollection at 0x25ee23edf98>"
      ]
     },
     "execution_count": 4,
     "metadata": {},
     "output_type": "execute_result"
    },
    {
     "data": {
      "image/png": "[encoded data removed]",
      "text/plain": [
       "<Figure size 432x288 with 1 Axes>"
      ]
     },
     "metadata": {
      "needs_background": "light"
     },
     "output_type": "display_data"
    }
   ],
   "source": [
    "#绘制散点图，选择拟合模型\n",
    "plt.scatter(x,y)"
   ]
  },
  {
   "cell_type": "markdown",
   "metadata": {},
   "source": [
    "通过观察上图选择线性模型$y=a+bx$进行拟合"
   ]
  },
  {
   "cell_type": "markdown",
   "metadata": {},
   "source": [
    "# 模型求解"
   ]
  },
  {
   "cell_type": "markdown",
   "metadata": {},
   "source": [
    "求解的一次式$y=a+bx$需要满足总误差Q最小,其中：\n",
    "$$Q=\\sum_{i=1}^{N}\\left[y_{i}-\\left(a+b x_{i}\\right)\\right]^{2}$$\n",
    "根据求极值的方法知，使$Q$取得极值时的$a,b$满足:\n",
    "$$\\frac{\\partial Q}{\\partial a}=0, \\quad \\frac{\\partial Q}{\\partial b}=0$$\n",
    "即满足：\n",
    "$$\\left\\{\\begin{array}{l}{a N+b \\sum x_{i}=\\sum y_{i}} \\\\ {a \\sum x_{i}+b \\sum x_{i}^{2}=\\sum x_{i} y_{i}}\\end{array}\\right.$$\n",
    "因此问题转化为求解上面的线性方程组，其中$a,b$为未知数"
   ]
  },
  {
   "cell_type": "code",
   "execution_count": 5,
   "metadata": {},
   "outputs": [],
   "source": [
    "#编写求解上述线性方程组的函数，返回求解的结果为a,b的值\n",
    "def linearfit(x,y):\n",
    "    #构造系数矩阵A\n",
    "    A=[]\n",
    "    A.append(len(x))\n",
    "    A.append(sum(x))\n",
    "    A.append(sum(x))\n",
    "    A.append(sum(x*x))\n",
    "    A=np.array(A).reshape(2,2)\n",
    "    #构造矩阵b\n",
    "    b=[]\n",
    "    b.append(sum(y))\n",
    "    b.append(sum(x*y))\n",
    "    b=np.array(b).reshape(2,1)\n",
    "    #求解线性方程组，返回结果\n",
    "    return np.linalg.inv(A).dot(b)"
   ]
  },
  {
   "cell_type": "code",
   "execution_count": 6,
   "metadata": {},
   "outputs": [
    {
     "name": "stdout",
     "output_type": "stream",
     "text": [
      "得到的拟合直线方程为:\ty=6.438284518828432+(-0.7876569037656873*x)\n"
     ]
    }
   ],
   "source": [
    "ans=linearfit(x,y)\n",
    "print(\"得到的拟合直线方程为:\\t\"+\"y=\"+str(ans[(0,0)])+\"+(\"+str(ans[(1,0)])+\"*x)\")"
   ]
  },
  {
   "cell_type": "code",
   "execution_count": 7,
   "metadata": {},
   "outputs": [],
   "source": [
    "x_=np.arange(0,8,1)\n",
    "y_=ans[(0,0)]+ans[(1,0)]*x_"
   ]
  },
  {
   "cell_type": "code",
   "execution_count": 8,
   "metadata": {},
   "outputs": [
    {
     "data": {
      "image/png": "[encoded data removed]",
      "text/plain": [
       "<Figure size 432x288 with 1 Axes>"
      ]
     },
     "metadata": {
      "needs_background": "light"
     },
     "output_type": "display_data"
    }
   ],
   "source": [
    "#绘制拟合的结果\n",
    "plt.scatter(x,y)\n",
    "plt.plot(x_,y_)\n",
    "plt.show()"
   ]
  },
  {
   "cell_type": "markdown",
   "metadata": {},
   "source": [
    "# 结果分析"
   ]
  },
  {
   "cell_type": "markdown",
   "metadata": {},
   "source": [
    "## 计算残差平方和"
   ]
  },
  {
   "cell_type": "code",
   "execution_count": 9,
   "metadata": {},
   "outputs": [
    {
     "name": "stdout",
     "output_type": "stream",
     "text": [
      "0.3178870292887031\n"
     ]
    }
   ],
   "source": [
    "print(sum((y-(ans[(0,0)]+ans[(1,0)]*x))*(y-(ans[(0,0)]+ans[(1,0)]*x))))"
   ]
  },
  {
   "cell_type": "markdown",
   "metadata": {},
   "source": [
    "## 使用sklearn计算作为标准结果"
   ]
  },
  {
   "cell_type": "code",
   "execution_count": 10,
   "metadata": {},
   "outputs": [
    {
     "data": {
      "text/plain": [
       "LinearRegression(copy_X=True, fit_intercept=True, n_jobs=None,\n",
       "         normalize=False)"
      ]
     },
     "execution_count": 10,
     "metadata": {},
     "output_type": "execute_result"
    }
   ],
   "source": [
    "from sklearn import linear_model\n",
    "clf = linear_model.LinearRegression()\n",
    "clf.fit(x.reshape(-1,1),y.reshape(-1,1))"
   ]
  },
  {
   "cell_type": "code",
   "execution_count": 11,
   "metadata": {},
   "outputs": [
    {
     "name": "stdout",
     "output_type": "stream",
     "text": [
      "sklearn计算得到一元线性方程为: \ty=6.438284518828452+(-0.7876569037656904*x)\n"
     ]
    }
   ],
   "source": [
    "print('sklearn计算得到一元线性方程为: '+'\\ty' + '=' + str(clf.intercept_[0])+\"+(\"+str(clf.coef_[0][0]) + '*x)')"
   ]
  },
  {
   "cell_type": "code",
   "execution_count": null,
   "metadata": {},
   "outputs": [],
   "source": []
  }
 ],
 "metadata": {
  "kernelspec": {
   "display_name": "Python 3",
   "language": "python",
   "name": "python3"
  },
  "language_info": {
   "codemirror_mode": {
    "name": "ipython",
    "version": 3
   },
   "file_extension": ".py",
   "mimetype": "text/x-python",
   "name": "python",
   "nbconvert_exporter": "python",
   "pygments_lexer": "ipython3",
   "version": "3.7.1"
  },
  "toc": {
   "base_numbering": 1,
   "nav_menu": {},
   "number_sections": true,
   "sideBar": true,
   "skip_h1_title": false,
   "title_cell": "Table of Contents",
   "title_sidebar": "Contents",
   "toc_cell": false,
   "toc_position": {},
   "toc_section_display": true,
   "toc_window_display": false
  }
 },
 "nbformat": 4,
 "nbformat_minor": 2
}
