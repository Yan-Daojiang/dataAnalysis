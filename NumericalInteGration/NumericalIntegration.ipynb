{
 "cells": [
  {
   "cell_type": "markdown",
   "metadata": {},
   "source": [
    "# 问题描述\n",
    "用复化梯形公式$T_{n}=h\\left(\\frac{1}{2} f(a)+\\sum_{j=1}^{n} f(a+i h)+\\frac{1}{2} f(b)\\right)$的自动控制误差算法求积分$I=\\int_{a}^{b} f(x) d x$\n",
    "* 说明：\n",
    "下面的程序编写中以$\\frac{\\sin (x)}{x}$作为被积函数，计算积分\n",
    "$$\\int_{0}^{1} \\frac{\\sin (x)}{x}$$\n",
    "要求计算精度满足$\\left|T_{2 n}-T_{n}\\right|<\\varepsilon=10^{-7}$"
   ]
  },
  {
   "cell_type": "markdown",
   "metadata": {},
   "source": [
    "# 求解"
   ]
  },
  {
   "cell_type": "code",
   "execution_count": 1,
   "metadata": {},
   "outputs": [],
   "source": [
    "import math\n",
    "def f(x):\n",
    "    \"\"\"f(x)表示被积函数\"\"\"\n",
    "    return math.sin(x)/x"
   ]
  },
  {
   "cell_type": "code",
   "execution_count": 2,
   "metadata": {},
   "outputs": [
    {
     "name": "stderr",
     "output_type": "stream",
     "text": [
      "C:\\Users\\13738\\Anaconda3\\lib\\site-packages\\ipykernel_launcher.py:4: RuntimeWarning: invalid value encountered in double_scalars\n",
      "  after removing the cwd from sys.path.\n"
     ]
    },
    {
     "data": {
      "image/png": "[encoded data removed]",
      "text/plain": [
       "<Figure size 576x432 with 1 Axes>"
      ]
     },
     "metadata": {
      "needs_background": "light"
     },
     "output_type": "display_data"
    }
   ],
   "source": [
    "#图像绘制\n",
    "import numpy as np, matplotlib.pyplot as plt\n",
    "from mpl_toolkits.mplot3d.axes3d import Axes3D\n",
    "%matplotlib inline\n",
    "x_ = np.arange(0,1,0.01)\n",
    "y_=[]\n",
    "for i in x_:\n",
    "    y_.append(f(i))\n",
    "y_[0]=1\n",
    "\n",
    "\n",
    "fig, ax = plt.subplots(figsize=(8, 6))\n",
    "\n",
    "ax.plot(x_, y_)\n",
    "ax.fill_between(x_,y_, color='green', alpha=0.5)\n",
    "ax.set_xlabel(\"$x$\", fontsize=18)\n",
    "ax.set_ylabel(\"$f(x)$\", fontsize=18)\n",
    "ax.set_ylim(0, 1.2)\n",
    "plt.show()"
   ]
  },
  {
   "cell_type": "code",
   "execution_count": 3,
   "metadata": {},
   "outputs": [],
   "source": [
    "import time"
   ]
  },
  {
   "cell_type": "markdown",
   "metadata": {},
   "source": [
    "## 梯形法递推求解"
   ]
  },
  {
   "cell_type": "code",
   "execution_count": 4,
   "metadata": {},
   "outputs": [],
   "source": [
    "def variableStepLadder(a,b,err):\n",
    "    \"\"\"递推梯形法，\n",
    "        a,b为区间，err为精度，\n",
    "        返回积分结果\"\"\"\n",
    "    #准备初值\n",
    "    h=b-a\n",
    "    T1=h*(1+f(b))/2\n",
    "    while True:\n",
    "        #求二分后的梯形值\n",
    "        S=0\n",
    "        x=a+h/2\n",
    "        while True:\n",
    "            S=S+f(x)\n",
    "            x=x+h\n",
    "            if x>=b:\n",
    "                break\n",
    "        T2=T1/2+h*S/2\n",
    "        if abs(T2-T1)<err: #控制精度\n",
    "            break\n",
    "        else:  #改步长\n",
    "            h=h/2\n",
    "            T1=T2\n",
    "    return T2\n",
    "        "
   ]
  },
  {
   "cell_type": "code",
   "execution_count": 5,
   "metadata": {},
   "outputs": [
    {
     "name": "stdout",
     "output_type": "stream",
     "text": [
      "控制精度为1e-07时，梯形递推积分结果为：0.946083046432447\n",
      "running time:0.000805100000000003\n"
     ]
    },
    {
     "name": "stderr",
     "output_type": "stream",
     "text": [
      "C:\\Users\\13738\\Anaconda3\\lib\\site-packages\\ipykernel_launcher.py:1: DeprecationWarning: time.clock has been deprecated in Python 3.3 and will be removed from Python 3.8: use time.perf_counter or time.process_time instead\n",
      "  \"\"\"Entry point for launching an IPython kernel.\n",
      "C:\\Users\\13738\\Anaconda3\\lib\\site-packages\\ipykernel_launcher.py:4: DeprecationWarning: time.clock has been deprecated in Python 3.3 and will be removed from Python 3.8: use time.perf_counter or time.process_time instead\n",
      "  after removing the cwd from sys.path.\n"
     ]
    }
   ],
   "source": [
    "start=time.clock()\n",
    "err=0.0000001\n",
    "ans=variableStepLadder(0,1,err)\n",
    "end=time.clock()\n",
    "print(\"控制精度为\"+str(err)+\"时，梯形递推积分结果为：\"+str(ans))\n",
    "print(\"running time:\"+str(end-start))"
   ]
  },
  {
   "cell_type": "markdown",
   "metadata": {},
   "source": [
    "## Romberg积分算法求积分"
   ]
  },
  {
   "cell_type": "code",
   "execution_count": 6,
   "metadata": {},
   "outputs": [],
   "source": [
    "def Romberg(a,b,err):\n",
    "    \"\"\"龙贝格算法，\n",
    "       a,b为求解区间,err为精度\n",
    "       返回积分结果\"\"\"\n",
    "    h=b-a\n",
    "    T1=(1+f(b))*h/2\n",
    "    k=1\n",
    "    while True:\n",
    "        S=0\n",
    "        x=a+h/2\n",
    "        while True:\n",
    "            S=S+f(x)\n",
    "            x=x+h\n",
    "            if x>=b:\n",
    "                break\n",
    "        T2=T1/2+h*S/2\n",
    "        S2=T2+(T2-T1)/3\n",
    "        if k==1:\n",
    "            k=k+1\n",
    "            h=h/2\n",
    "            T1=T2\n",
    "            S1=S2\n",
    "            continue\n",
    "        else:\n",
    "            C2=S2+(S2-S1)/15\n",
    "        if k==2:\n",
    "            C1=C2\n",
    "            k=k+1\n",
    "            h=h/2\n",
    "            T1=T2\n",
    "            S1=S2\n",
    "            continue\n",
    "        else:\n",
    "            R2=C2+(C2-C1)/63\n",
    "        if k==3:\n",
    "            R1=R2\n",
    "            C1=C2\n",
    "            k=k+1\n",
    "            h=h/2\n",
    "            T1=T2\n",
    "            S1=S2\n",
    "            continue\n",
    "        else:\n",
    "            if abs(R2-R1)<err:\n",
    "                break\n",
    "            else:\n",
    "                R1=R2\n",
    "            C1=C2\n",
    "            k=k+1\n",
    "            h=h/2\n",
    "            T1=T2\n",
    "            S1=S2\n",
    "            continue           \n",
    "    return R2"
   ]
  },
  {
   "cell_type": "code",
   "execution_count": 7,
   "metadata": {},
   "outputs": [
    {
     "name": "stdout",
     "output_type": "stream",
     "text": [
      "控制精度为1e-07时，龙贝格积分结果为：0.9460830703672595\n",
      "running time:9.199999999998099e-05\n"
     ]
    },
    {
     "name": "stderr",
     "output_type": "stream",
     "text": [
      "C:\\Users\\13738\\Anaconda3\\lib\\site-packages\\ipykernel_launcher.py:1: DeprecationWarning: time.clock has been deprecated in Python 3.3 and will be removed from Python 3.8: use time.perf_counter or time.process_time instead\n",
      "  \"\"\"Entry point for launching an IPython kernel.\n",
      "C:\\Users\\13738\\Anaconda3\\lib\\site-packages\\ipykernel_launcher.py:4: DeprecationWarning: time.clock has been deprecated in Python 3.3 and will be removed from Python 3.8: use time.perf_counter or time.process_time instead\n",
      "  after removing the cwd from sys.path.\n"
     ]
    }
   ],
   "source": [
    "start=time.clock()\n",
    "err=0.0000001\n",
    "ans=Romberg(0,1,err)\n",
    "end=time.clock()\n",
    "print(\"控制精度为\"+str(err)+\"时，龙贝格积分结果为：\"+str(ans))\n",
    "print(\"running time:\"+str(end-start))"
   ]
  },
  {
   "cell_type": "markdown",
   "metadata": {},
   "source": [
    "# 标准结果\n",
    "通过scipy库中的`integrate.quad(f, a, b)`函数返回的值作为标准结果"
   ]
  },
  {
   "cell_type": "code",
   "execution_count": 8,
   "metadata": {},
   "outputs": [
    {
     "name": "stdout",
     "output_type": "stream",
     "text": [
      "参考结果为:0.9460830703671831\n"
     ]
    }
   ],
   "source": [
    "from scipy import integrate\n",
    "v, err = integrate.quad(f, 0, 1)\n",
    "print(\"参考结果为:\"+str(v))\n"
   ]
  },
  {
   "cell_type": "code",
   "execution_count": null,
   "metadata": {},
   "outputs": [],
   "source": []
  }
 ],
 "metadata": {
  "kernelspec": {
   "display_name": "Python 3",
   "language": "python",
   "name": "python3"
  },
  "language_info": {
   "codemirror_mode": {
    "name": "ipython",
    "version": 3
   },
   "file_extension": ".py",
   "mimetype": "text/x-python",
   "name": "python",
   "nbconvert_exporter": "python",
   "pygments_lexer": "ipython3",
   "version": "3.7.1"
  },
  "toc": {
   "base_numbering": 1,
   "nav_menu": {},
   "number_sections": true,
   "sideBar": true,
   "skip_h1_title": false,
   "title_cell": "Table of Contents",
   "title_sidebar": "Contents",
   "toc_cell": false,
   "toc_position": {},
   "toc_section_display": true,
   "toc_window_display": false
  }
 },
 "nbformat": 4,
 "nbformat_minor": 2
}
