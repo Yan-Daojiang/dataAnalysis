{
 "cells": [
  {
   "cell_type": "markdown",
   "metadata": {},
   "source": [
    "# 问题描述\n",
    "用复化梯形公式$T_{n}=h\\left(\\frac{1}{2} f(a)+\\sum_{j=1}^{n} f(a+i h)+\\frac{1}{2} f(b)\\right)$的自动控制误差算法求积分$I=\\int_{a}^{b} f(x) d x$\n",
    "* 说明：\n",
    "下面的程序编写中以$\\frac{\\sin (x)}{x}$作为被积函数，计算积分\n",
    "$$\\int_{0}^{1} \\frac{\\sin (x)}{x}$$\n",
    "要求计算精度满足$\\left|T_{2 n}-T_{n}\\right|<\\varepsilon=10^{-7}$"
   ]
  },
  {
   "cell_type": "markdown",
   "metadata": {},
   "source": [
    "# 求解"
   ]
  },
  {
   "cell_type": "code",
   "execution_count": 1,
   "metadata": {},
   "outputs": [],
   "source": [
    "import math\n",
    "def f(x):\n",
    "    \"\"\"f(x)表示被积函数\"\"\"\n",
    "    return math.sin(x)/x"
   ]
  },
  {
   "cell_type": "code",
   "execution_count": 2,
   "metadata": {},
   "outputs": [
    {
     "name": "stderr",
     "output_type": "stream",
     "text": [
      "C:\\Users\\13738\\Anaconda3\\lib\\site-packages\\ipykernel_launcher.py:4: RuntimeWarning: invalid value encountered in double_scalars\n",
      "  after removing the cwd from sys.path.\n"
     ]
    },
    {
     "data": {
      "text/plain": [
       "<Figure size 800x600 with 1 Axes>"
      ]
     },
     "metadata": {},
     "output_type": "display_data"
    }
   ],
   "source": [
    "#图像绘制\n",
    "import numpy as np, matplotlib.pyplot as plt\n",
    "from mpl_toolkits.mplot3d.axes3d import Axes3D\n",
    "x_ = np.arange(0,1,0.01)\n",
    "y_=[]\n",
    "for i in x_:\n",
    "    y_.append(f(i))\n",
    "y_[0]=1\n",
    "\n",
    "\n",
    "fig, ax = plt.subplots(figsize=(8, 6))\n",
    "\n",
    "ax.plot(x_, y_)\n",
    "ax.fill_between(x_,y_, color='green', alpha=0.5)\n",
    "ax.set_xlabel(\"$x$\", fontsize=18)\n",
    "ax.set_ylabel(\"$f(x)$\", fontsize=18)\n",
    "ax.set_ylim(0, 1.2)\n",
    "plt.show()"
   ]
  },
  {
   "cell_type": "markdown",
   "metadata": {},
   "source": [
    "## 梯形法递推求解"
   ]
  },
  {
   "cell_type": "code",
   "execution_count": 3,
   "metadata": {},
   "outputs": [],
   "source": [
    "def variableStepLadder(a,b,err):\n",
    "    \"\"\"a,b为积分边界,\n",
    "        err为精度\"\"\"\n",
    "    h=b-a\n",
    "    n=1    #初始化子区间的个数\n",
    "    t2n=h*(1+f(1))/2\n",
    "    while True:\n",
    "        tn=t2n\n",
    "        h=h/2\n",
    "        t2n=0\n",
    "        for i in range(0,n):\n",
    "            x=a+h*(2*i+1)\n",
    "            t2n=t2n+f(x)\n",
    "        t2n=tn/2+h*t2n\n",
    "        n=n*2\n",
    "        #满足精度时就退出积分\n",
    "        if abs(t2n-tn)<err:\n",
    "            break\n",
    "    print(n)\n",
    "    return t2n"
   ]
  },
  {
   "cell_type": "code",
   "execution_count": 4,
   "metadata": {},
   "outputs": [
    {
     "name": "stdout",
     "output_type": "stream",
     "text": [
      "1024\n",
      "控制精度为1e-07时，梯形递推积分结果为：0.946083046432447\n",
      "Wall time: 0 ns\n"
     ]
    }
   ],
   "source": [
    "%%time\n",
    "err=0.0000001\n",
    "ans=variableStepLadder(0,1,err)\n",
    "print(\"控制精度为\"+str(err)+\"时，梯形递推积分结果为：\"+str(ans))"
   ]
  },
  {
   "cell_type": "markdown",
   "metadata": {},
   "source": [
    "## Romberg积分算法求积分"
   ]
  },
  {
   "cell_type": "code",
   "execution_count": 5,
   "metadata": {},
   "outputs": [],
   "source": [
    "import numpy as np\n",
    "def romberg(a,b,err):\n",
    "    \"\"\"龙贝格算法求解\n",
    "        a,b为积分边界,\n",
    "        err为精度\"\"\"\n",
    "    nsize=24    #外推次数\n",
    "    r=np.zeros((nsize,nsize))    #r为T表，初始为0\n",
    "    h=(b-a)/2\n",
    "    n=1    #子区间的个数\n",
    "    r[(0,0)]=h*(1+f(b))    #f(a)的值为1，f(b)的值调用函数求解\n",
    "    for i in range(nsize):\n",
    "        #逐次分半梯形公式求积\n",
    "        s=0\n",
    "        for j in range(n):\n",
    "            x=a+h*(2*j+1)\n",
    "            s=s+f(x)\n",
    "        r[(i,0)]=r[(i-1,0)]/2+h*s\n",
    "        n=n*2\n",
    "        h=h/2\n",
    "        #Romberg加速\n",
    "        m=1\n",
    "        for j in range(1,i+1):\n",
    "            m=m*4\n",
    "            r[(i-j,j)]=r[(i-j+1,j-1)]+(r[(i-j+1,j-1)]-r[(i-j,j-1)])/(m-1)\n",
    "        if abs(r[(0,i)]-r[(0,i-1)])<=err:\n",
    "            break\n",
    "    abs(r[(0,i)]-r[(0,i-1)])\n",
    "    if i<nsize-1:\n",
    "        return r[(0,i)]\n",
    "    else:\n",
    "        return -1    #迭代次数达到上限"
   ]
  },
  {
   "cell_type": "code",
   "execution_count": 6,
   "metadata": {},
   "outputs": [
    {
     "name": "stdout",
     "output_type": "stream",
     "text": [
      "龙贝格求积结果:0.9460830035068026\n",
      "Wall time: 3.28 s\n"
     ]
    }
   ],
   "source": [
    "%%time\n",
    "err=0.0000001\n",
    "ans=romberg(0,1,err)\n",
    "if ans>=0:\n",
    "    print(\"龙贝格求积结果:\"+str(ans))\n",
    "else:\n",
    "    print(\"迭代次数达到上限，函数退出\")"
   ]
  },
  {
   "cell_type": "markdown",
   "metadata": {},
   "source": [
    "# 标准结果\n",
    "通过scipy库中的`integrate.quad(f, a, b)`函数返回的值作为标准结果"
   ]
  },
  {
   "cell_type": "code",
   "execution_count": 7,
   "metadata": {},
   "outputs": [
    {
     "name": "stdout",
     "output_type": "stream",
     "text": [
      "参考结果为:0.9460830703671831\n"
     ]
    }
   ],
   "source": [
    "from scipy import integrate\n",
    "v, err = integrate.quad(f, 0, 1)\n",
    "print(\"参考结果为:\"+str(v))\n"
   ]
  },
  {
   "cell_type": "code",
   "execution_count": null,
   "metadata": {},
   "outputs": [],
   "source": []
  }
 ],
 "metadata": {
  "kernelspec": {
   "display_name": "Python 3",
   "language": "python",
   "name": "python3"
  },
  "language_info": {
   "codemirror_mode": {
    "name": "ipython",
    "version": 3
   },
   "file_extension": ".py",
   "mimetype": "text/x-python",
   "name": "python",
   "nbconvert_exporter": "python",
   "pygments_lexer": "ipython3",
   "version": "3.7.1"
  },
  "toc": {
   "base_numbering": 1,
   "nav_menu": {},
   "number_sections": true,
   "sideBar": true,
   "skip_h1_title": false,
   "title_cell": "Table of Contents",
   "title_sidebar": "Contents",
   "toc_cell": false,
   "toc_position": {},
   "toc_section_display": true,
   "toc_window_display": false
  }
 },
 "nbformat": 4,
 "nbformat_minor": 2
}
