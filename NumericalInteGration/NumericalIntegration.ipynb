{
 "cells": [
  {
   "cell_type": "markdown",
   "metadata": {},
   "source": [
    "# 问题描述\n",
    "用复化梯形公式$T_{n}=h\\left(\\frac{1}{2} f(a)+\\sum_{j=1}^{n} f(a+i h)+\\frac{1}{2} f(b)\\right)$的自动控制误差算法求积分$I=\\int_{a}^{b} f(x) d x$\n",
    "* 说明：\n",
    "下面的程序编写中以$\\frac{\\sin (x)}{x}$作为被积函数，计算积分\n",
    "$$\\int_{0}^{1} \\frac{\\sin (x)}{x}$$\n",
    "要求计算精度满足$\\left|T_{2 n}-T_{n}\\right|<\\varepsilon=10^{-7}$"
   ]
  },
  {
   "cell_type": "markdown",
   "metadata": {},
   "source": [
    "# 求解"
   ]
  },
  {
   "cell_type": "code",
   "execution_count": 1,
   "metadata": {},
   "outputs": [],
   "source": [
    "import math\n",
    "def f(x):\n",
    "    \"\"\"f(x)表示被积函数\"\"\"\n",
    "    return math.sin(x)/x"
   ]
  },
  {
   "cell_type": "markdown",
   "metadata": {},
   "source": [
    "## 梯形法递推求解"
   ]
  },
  {
   "cell_type": "code",
   "execution_count": 2,
   "metadata": {},
   "outputs": [],
   "source": [
    "def variableStepLadder(a,b,err):\n",
    "    \"\"\"a,b为积分边界,\n",
    "        err为精度\"\"\"\n",
    "    h=b-a\n",
    "    n=1    #初始化子区间的个数\n",
    "    t2n=h*(1+f(1))/2\n",
    "    while True:\n",
    "        tn=t2n\n",
    "        h=h/2\n",
    "        t2n=0\n",
    "        for i in range(0,n):\n",
    "            x=a+h*(2*i+1)\n",
    "            t2n=t2n+f(x)\n",
    "        t2n=tn/2+h*t2n\n",
    "        n=n*2\n",
    "        #满足精度时就退出积分\n",
    "        if abs(t2n-tn)<err:\n",
    "            break\n",
    "    return t2n"
   ]
  },
  {
   "cell_type": "code",
   "execution_count": 3,
   "metadata": {},
   "outputs": [
    {
     "name": "stdout",
     "output_type": "stream",
     "text": [
      "控制精度为1e-07时，得到的积分结果为：0.946083046432447\n"
     ]
    }
   ],
   "source": [
    "err=0.0000001\n",
    "ans=variableStepLadder(0,1,err)\n",
    "print(\"控制精度为\"+str(err)+\"时，得到的积分结果为：\"+str(ans))"
   ]
  },
  {
   "cell_type": "markdown",
   "metadata": {},
   "source": [
    "## Romberg积分算法求积分"
   ]
  },
  {
   "cell_type": "code",
   "execution_count": null,
   "metadata": {},
   "outputs": [],
   "source": []
  }
 ],
 "metadata": {
  "kernelspec": {
   "display_name": "Python 3",
   "language": "python",
   "name": "python3"
  },
  "language_info": {
   "codemirror_mode": {
    "name": "ipython",
    "version": 3
   },
   "file_extension": ".py",
   "mimetype": "text/x-python",
   "name": "python",
   "nbconvert_exporter": "python",
   "pygments_lexer": "ipython3",
   "version": "3.7.1"
  },
  "toc": {
   "base_numbering": 1,
   "nav_menu": {},
   "number_sections": true,
   "sideBar": true,
   "skip_h1_title": false,
   "title_cell": "Table of Contents",
   "title_sidebar": "Contents",
   "toc_cell": false,
   "toc_position": {},
   "toc_section_display": true,
   "toc_window_display": false
  }
 },
 "nbformat": 4,
 "nbformat_minor": 2
}
