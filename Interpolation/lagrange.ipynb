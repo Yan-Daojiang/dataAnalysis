{
 "cells": [
  {
   "cell_type": "code",
   "execution_count": 1,
   "metadata": {},
   "outputs": [],
   "source": [
    "# 拉格朗日插值\n",
    "def lagrange(X,Y,x):\n",
    "    \"\"\"X,Y为给定的已知条件，\n",
    "        x为要进行插值的结点，\n",
    "        返回插值y\"\"\"\n",
    "    n=len(X)\n",
    "    y=0\n",
    "    for k in range(n):\n",
    "        t=1\n",
    "        for j in range(n):\n",
    "            if j!=k:\n",
    "                t=t*(x-X[j])/(X[k]-X[j])\n",
    "        y=y+t*Y[k]\n",
    "    return y"
   ]
  },
  {
   "cell_type": "markdown",
   "metadata": {},
   "source": [
    "# 线性插值"
   ]
  },
  {
   "cell_type": "code",
   "execution_count": 2,
   "metadata": {},
   "outputs": [
    {
     "name": "stdout",
     "output_type": "stream",
     "text": [
      "被插节点0.54插值为:-0.62018\n"
     ]
    }
   ],
   "source": [
    "#已知条件\n",
    "X=[0.5,0.6]\n",
    "Y=[-0.6931,-0.5108]\n",
    "#被插节点\n",
    "x=0.54\n",
    "insert=lagrange(X,Y,x)\n",
    "print(\"被插节点\"+str(x)+\"插值为:\"+str(insert))"
   ]
  },
  {
   "cell_type": "markdown",
   "metadata": {},
   "source": [
    "# 抛物插值"
   ]
  },
  {
   "cell_type": "code",
   "execution_count": 3,
   "metadata": {},
   "outputs": [
    {
     "name": "stdout",
     "output_type": "stream",
     "text": [
      "被插节点0.54插值为:-0.6153919999999998\n"
     ]
    }
   ],
   "source": [
    "#已知条件\n",
    "X=[0.4,0.5,0.6]\n",
    "Y=[-0.9153,-0.6931,-0.5108]\n",
    "#被插节点\n",
    "x=0.54\n",
    "insert=lagrange(X,Y,x)\n",
    "print(\"被插节点\"+str(x)+\"插值为:\"+str(insert))"
   ]
  },
  {
   "cell_type": "markdown",
   "metadata": {},
   "source": [
    "# 精确结果"
   ]
  },
  {
   "cell_type": "code",
   "execution_count": 4,
   "metadata": {
    "code_folding": []
   },
   "outputs": [
    {
     "name": "stdout",
     "output_type": "stream",
     "text": [
      "ln(0.5)=-0.616186139423817\n"
     ]
    }
   ],
   "source": [
    "import math\n",
    "# 通过math函数得到的精确结果\n",
    "print(\"ln(0.5)=\"+str(math.log(0.54)))"
   ]
  }
 ],
 "metadata": {
  "kernelspec": {
   "display_name": "Python 3",
   "language": "python",
   "name": "python3"
  },
  "language_info": {
   "codemirror_mode": {
    "name": "ipython",
    "version": 3
   },
   "file_extension": ".py",
   "mimetype": "text/x-python",
   "name": "python",
   "nbconvert_exporter": "python",
   "pygments_lexer": "ipython3",
   "version": "3.7.1"
  },
  "toc": {
   "base_numbering": 1,
   "nav_menu": {},
   "number_sections": true,
   "sideBar": true,
   "skip_h1_title": false,
   "title_cell": "Table of Contents",
   "title_sidebar": "Contents",
   "toc_cell": false,
   "toc_position": {},
   "toc_section_display": true,
   "toc_window_display": false
  }
 },
 "nbformat": 4,
 "nbformat_minor": 2
}
