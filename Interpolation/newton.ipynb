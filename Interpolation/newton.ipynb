{
 "cells": [
  {
   "cell_type": "markdown",
   "metadata": {},
   "source": [
    "# 牛顿法插值"
   ]
  },
  {
   "cell_type": "markdown",
   "metadata": {},
   "source": [
    "$$\\begin{aligned} N_{n}(x)=& f\\left[x_{0}\\right]+f\\left[x_{0}, x_{1}\\right]\\left(x-x_{0}\\right)+f\\left[x_{0}, x_{1}, x_{2}\\right]\\left(x-x_{0}\\right)\\left(x-x_{1}\\right)+\\cdots \\\\ &+f\\left[x_{0}, x_{1}, \\cdots, x_{n}\\right]\\left(x-x_{0}\\right)\\left(x-x_{1}\\right) \\cdots\\left(x-x_{n-1}\\right) \\end{aligned}$$\n",
    "对上面的式子利用秦九韶算法化简：\n",
    "$$\\begin{array}{l}{=f\\left[x_{0}\\right]+\\left(x-x_{0}\\right)\\left(f\\left[x_{0}, x_{1}\\right]+\\left(x-x_{1}\\right)\\left(f\\left[x_{0}, x_{1}, x_{2}\\right]+\\left(x-x_{2}\\right)(\\cdots\\right.\\right.} \\\\ {\\quad+\\left(x-x_{n-3}\\right)\\left(f\\left[x_{0}, x_{1}, \\cdots, x_{n-2}\\right]+\\left(x-x_{n-2}\\right)\\left(f\\left[x_{0}, x_{1}, \\cdots, x_{n-1}\\right]\\right.\\right.}\\end{array}$$\n",
    "$$+\\left(x-x_{n-1}\\right) f\\left[x_{0}, x_{1}, \\cdots, x_{n}\\right] ))\\cdots) ) )$$"
   ]
  },
  {
   "cell_type": "code",
   "execution_count": 1,
   "metadata": {},
   "outputs": [],
   "source": [
    "#牛顿插值\n",
    "def newton(X,Y,x):\n",
    "    \"\"\"X,Y为已知条件\n",
    "        x为被插节点\n",
    "        函数返回被插节点处所插结果\"\"\"\n",
    "    n=len(X)\n",
    "    #构造差商表\n",
    "    for j in range(1,n):\n",
    "        for i in range(n-1,j-1,-1):\n",
    "            Y[i]=(Y[i]-Y[i-1])/(X[i]-X[i-j])\n",
    "    #牛顿插值\n",
    "    y=Y[n-1]\n",
    "    for i in range(n-2,-1,-1):\n",
    "        y=Y[i]+(x-X[i])*y\n",
    "    return y"
   ]
  },
  {
   "cell_type": "markdown",
   "metadata": {},
   "source": [
    "## 线性插值"
   ]
  },
  {
   "cell_type": "code",
   "execution_count": 2,
   "metadata": {},
   "outputs": [
    {
     "name": "stdout",
     "output_type": "stream",
     "text": [
      "被插节点0.54插值为:-0.62018\n"
     ]
    }
   ],
   "source": [
    "#已知条件\n",
    "X=[0.5,0.6]\n",
    "Y=[-0.6931,-0.5108]\n",
    "#被插节点\n",
    "x=0.54\n",
    "insert=newton(X,Y,x)\n",
    "print(\"被插节点\"+str(x)+\"插值为:\"+str(insert))"
   ]
  },
  {
   "cell_type": "markdown",
   "metadata": {},
   "source": [
    "## 抛物插值"
   ]
  },
  {
   "cell_type": "code",
   "execution_count": 5,
   "metadata": {},
   "outputs": [
    {
     "name": "stdout",
     "output_type": "stream",
     "text": [
      "被插节点0.54插值为:-0.6153919999999999\n"
     ]
    }
   ],
   "source": [
    "#已知条件\n",
    "X=[0.4,0.5,0.6]\n",
    "Y=[-0.9153,-0.6931,-0.5108]\n",
    "#被插节点\n",
    "x=0.54\n",
    "insert=newton(X,Y,x)\n",
    "print(\"被插节点\"+str(x)+\"插值为:\"+str(insert))"
   ]
  },
  {
   "cell_type": "code",
   "execution_count": null,
   "metadata": {},
   "outputs": [],
   "source": []
  }
 ],
 "metadata": {
  "kernelspec": {
   "display_name": "Python 3",
   "language": "python",
   "name": "python3"
  },
  "language_info": {
   "codemirror_mode": {
    "name": "ipython",
    "version": 3
   },
   "file_extension": ".py",
   "mimetype": "text/x-python",
   "name": "python",
   "nbconvert_exporter": "python",
   "pygments_lexer": "ipython3",
   "version": "3.7.1"
  },
  "toc": {
   "base_numbering": 1,
   "nav_menu": {},
   "number_sections": true,
   "sideBar": true,
   "skip_h1_title": false,
   "title_cell": "Table of Contents",
   "title_sidebar": "Contents",
   "toc_cell": false,
   "toc_position": {},
   "toc_section_display": true,
   "toc_window_display": false
  }
 },
 "nbformat": 4,
 "nbformat_minor": 2
}
